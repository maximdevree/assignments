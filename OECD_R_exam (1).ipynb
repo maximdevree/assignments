{
 "cells": [
  {
   "cell_type": "markdown",
   "metadata": {},
   "source": [
    "# Exam\n",
    "\n",
    "In this exam, we will work with the \"frequently requested health data” from the OECD.\n",
    "Your task is to compute a simple “efficiency score” and make three plots. \n",
    "\n",
    "\n",
    "You will earn a higher grade if you provide nicer graphs.  \n"
   ]
  },
  {
   "cell_type": "markdown",
   "metadata": {},
   "source": [
    "Now you need to call the libaries\n",
    "\n",
    "* ggplot2\n",
    "* dplyr\n",
    "\n"
   ]
  },
  {
   "cell_type": "code",
   "execution_count": 2,
   "metadata": {
    "collapsed": false
   },
   "outputs": [
    {
     "name": "stderr",
     "output_type": "stream",
     "text": [
      "Warning message:\n",
      "\"package 'ggplot2' was built under R version 3.3.3\"\n",
      "Attaching package: 'dplyr'\n",
      "\n",
      "The following objects are masked from 'package:stats':\n",
      "\n",
      "    filter, lag\n",
      "\n",
      "The following objects are masked from 'package:base':\n",
      "\n",
      "    intersect, setdiff, setequal, union\n",
      "\n"
     ]
    }
   ],
   "source": [
    "library(ggplot2)\n",
    "library(dplyr)"
   ]
  },
  {
   "cell_type": "markdown",
   "metadata": {},
   "source": [
    "Now you have to read the de data that we have cleaned during tutorial 3. The csv file is called oecddata.csv"
   ]
  },
  {
   "cell_type": "code",
   "execution_count": 3,
   "metadata": {
    "collapsed": true
   },
   "outputs": [],
   "source": [
    "oecd <- read.csv2(\"oecddata.csv\")"
   ]
  },
  {
   "cell_type": "markdown",
   "metadata": {},
   "source": [
    "To see how the data look like, use the command:\n",
    "\n",
    "head(oecd)\n",
    "\n",
    "With the command\n",
    "\n",
    "oecd\n",
    "\n",
    "\n",
    "You can see the dataset in total."
   ]
  },
  {
   "cell_type": "code",
   "execution_count": 4,
   "metadata": {
    "collapsed": false
   },
   "outputs": [
    {
     "data": {
      "text/html": [
       "<table>\n",
       "<thead><tr><th scope=col>X</th><th scope=col>Country</th><th scope=col>Year</th><th scope=col>Cost</th><th scope=col>LE</th></tr></thead>\n",
       "<tbody>\n",
       "\t<tr><td>1        </td><td>Australia</td><td>2005     </td><td>2842.132 </td><td>80.9     </td></tr>\n",
       "\t<tr><td>2        </td><td>Australia</td><td>2006     </td><td>3023.098 </td><td>81.1     </td></tr>\n",
       "\t<tr><td>3        </td><td>Australia</td><td>2007     </td><td>3196.226 </td><td>81.4     </td></tr>\n",
       "\t<tr><td>4        </td><td>Australia</td><td>2008     </td><td>3310.171 </td><td>81.5     </td></tr>\n",
       "\t<tr><td>5        </td><td>Australia</td><td>2009     </td><td>3564.405 </td><td>81.6     </td></tr>\n",
       "\t<tr><td>6        </td><td>Australia</td><td>2010     </td><td>3607.341 </td><td>81.8     </td></tr>\n",
       "</tbody>\n",
       "</table>\n"
      ],
      "text/latex": [
       "\\begin{tabular}{r|lllll}\n",
       " X & Country & Year & Cost & LE\\\\\n",
       "\\hline\n",
       "\t 1         & Australia & 2005      & 2842.132  & 80.9     \\\\\n",
       "\t 2         & Australia & 2006      & 3023.098  & 81.1     \\\\\n",
       "\t 3         & Australia & 2007      & 3196.226  & 81.4     \\\\\n",
       "\t 4         & Australia & 2008      & 3310.171  & 81.5     \\\\\n",
       "\t 5         & Australia & 2009      & 3564.405  & 81.6     \\\\\n",
       "\t 6         & Australia & 2010      & 3607.341  & 81.8     \\\\\n",
       "\\end{tabular}\n"
      ],
      "text/markdown": [
       "\n",
       "X | Country | Year | Cost | LE | \n",
       "|---|---|---|---|---|---|\n",
       "| 1         | Australia | 2005      | 2842.132  | 80.9      | \n",
       "| 2         | Australia | 2006      | 3023.098  | 81.1      | \n",
       "| 3         | Australia | 2007      | 3196.226  | 81.4      | \n",
       "| 4         | Australia | 2008      | 3310.171  | 81.5      | \n",
       "| 5         | Australia | 2009      | 3564.405  | 81.6      | \n",
       "| 6         | Australia | 2010      | 3607.341  | 81.8      | \n",
       "\n",
       "\n"
      ],
      "text/plain": [
       "  X Country   Year Cost     LE  \n",
       "1 1 Australia 2005 2842.132 80.9\n",
       "2 2 Australia 2006 3023.098 81.1\n",
       "3 3 Australia 2007 3196.226 81.4\n",
       "4 4 Australia 2008 3310.171 81.5\n",
       "5 5 Australia 2009 3564.405 81.6\n",
       "6 6 Australia 2010 3607.341 81.8"
      ]
     },
     "metadata": {},
     "output_type": "display_data"
    }
   ],
   "source": [
    "head(oecd)"
   ]
  },
  {
   "cell_type": "markdown",
   "metadata": {},
   "source": [
    "## Graphs"
   ]
  },
  {
   "cell_type": "markdown",
   "metadata": {},
   "source": [
    "To make the graphs we need to make selections of the data. Please use \"dplyr\" (commands \"select\" and \"filter\") and the \"pipe\". The first assignment is to make a scatterplot using \"ggplot\". The graph contains data for all countries for the year 2014. Therefore make a dataframe with dplyr first, called \"graph1\" with the required data.\n",
    "Then, make a scatterplot with \"Cost\" on the x-axis and \"LE\" on the y-axis. You have to add a regression line with a shaded area for the confidence interval."
   ]
  },
  {
   "cell_type": "code",
   "execution_count": 5,
   "metadata": {
    "collapsed": false
   },
   "outputs": [
    {
     "name": "stderr",
     "output_type": "stream",
     "text": [
      "Warning message:\n",
      "\"Removed 1 rows containing non-finite values (stat_smooth).\"Warning message:\n",
      "\"Removed 1 rows containing missing values (geom_point).\""
     ]
    },
    {
     "data": {},
     "metadata": {},
     "output_type": "display_data"
    },
    {
     "data": {
      "image/png": "[encoded data removed]",
      "text/plain": [
       "plot without title"
      ]
     },
     "metadata": {},
     "output_type": "display_data"
    }
   ],
   "source": [
    "graph1 <- oecd %>%\n",
    "filter(Year ==2014) %>%\n",
    "select(Country, Cost, LE)\n",
    "\n",
    "ggplot(graph1,aes(x=Cost, y=LE)) + geom_point(shape = 1) + geom_smooth(method=lm)"
   ]
  },
  {
   "cell_type": "markdown",
   "metadata": {},
   "source": [
    "The second assignment is to make a line graph. You will use the years 2005-2015 for 5 countries (you can choose your own countries). Make a new dataframe called graph2 with the required data. Then, make a line graph with \"Year\"  and \"Cost\" on the y-axis. There should be coloured lines per country and a legend attached. "
   ]
  },
  {
   "cell_type": "code",
   "execution_count": 6,
   "metadata": {
    "collapsed": false
   },
   "outputs": [
    {
     "data": {},
     "metadata": {},
     "output_type": "display_data"
    },
    {
     "data": {
      "image/png": "[encoded data removed]",
      "text/plain": [
       "plot without title"
      ]
     },
     "metadata": {},
     "output_type": "display_data"
    }
   ],
   "source": [
    "graph2 <- oecd %>%\n",
    "filter(Year == 2005:2015, X ==1:55) %>%\n",
    "select(Country, Year, Cost)\n",
    "\n",
    "\n",
    "ggplot(graph2, aes(x=Year, y=Cost, color=Country)) + geom_line()"
   ]
  },
  {
   "cell_type": "markdown",
   "metadata": {},
   "source": [
    "## Efficiency scores\n",
    "\n",
    "The last assignment is to compute simple effiency scores. We will use the year 2014 for all countries (i.e. the dataframe \"graph1\").\n",
    "Make a new dateframe called \"eff\" (using graph1). Please use the \"pipe\" to execute to following steps:\n",
    "Select all the variables except the NA's (hint: use na.omit) and create a new column called \"Ratio\" with mutate. Ratio is defined as \"Cost/LE\" (cost per output).\n",
    "Create a new column called \"Score\" with mutate. Score is the ratio per country divided by the lowest ratio in the dataframe.\n",
    "To complete this dataframe order the dataset using \"arrange\" based on score (i.e. lowest Score first).\n",
    "\n",
    "\n",
    "Finally make a bar chart using ggplot. Countries should be on the x-axis and \"Score\" on the y-axis. \n",
    "\n",
    "\n",
    "\n",
    "You can earn extra points if you are able to order the graph based on scores (lowest first, highest last), if you are able to make the x-axis readable, make the bar of the Netherlands red and the other bars blue and/or change the name of the y-axis to \"Efficiency scores according to [your name]\" \n",
    "\n",
    "\n",
    "The figure should like this:\n",
    "\n",
    "![My Figure](eff.png)"
   ]
  },
  {
   "cell_type": "code",
   "execution_count": 52,
   "metadata": {
    "collapsed": false
   },
   "outputs": [
    {
     "data": {},
     "metadata": {},
     "output_type": "display_data"
    },
    {
     "data": {
      "image/png": "[encoded data removed]",
      "text/plain": [
       "plot without title"
      ]
     },
     "metadata": {},
     "output_type": "display_data"
    }
   ],
   "source": [
    "eff <- graph1 %>% \n",
    "na.omit(graph1) %>%\n",
    "mutate(Ratio = Cost/LE) %>%\n",
    "mutate(Score = Ratio / min(Ratio)) %>%\n",
    "arrange(Score)\n",
    "eff1 <- ggplot(data=eff, aes(x=Country, y=Score)) + geom_bar(stat = \"identity\", position = \"dodge\") + scale_y_continuous(\"Efficiency scores according to Maxim\")\n",
    "eff1"
   ]
  },
  {
   "cell_type": "code",
   "execution_count": null,
   "metadata": {
    "collapsed": true
   },
   "outputs": [],
   "source": []
  },
  {
   "cell_type": "code",
   "execution_count": null,
   "metadata": {
    "collapsed": true
   },
   "outputs": [],
   "source": []
  }
 ],
 "metadata": {
  "anaconda-cloud": {},
  "kernelspec": {
   "display_name": "R",
   "language": "R",
   "name": "ir"
  },
  "language_info": {
   "codemirror_mode": "r",
   "file_extension": ".r",
   "mimetype": "text/x-r-source",
   "name": "R",
   "pygments_lexer": "r",
   "version": "3.3.2"
  }
 },
 "nbformat": 4,
 "nbformat_minor": 1
}
